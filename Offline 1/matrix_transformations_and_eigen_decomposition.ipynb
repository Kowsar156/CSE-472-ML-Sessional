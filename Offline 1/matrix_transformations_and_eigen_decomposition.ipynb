{
  "cells": [
    {
      "cell_type": "code",
      "execution_count": null,
      "id": "9ac893b5",
      "metadata": {
        "ExecuteTime": {
          "end_time": "2022-11-20T04:18:55.271560Z",
          "start_time": "2022-11-20T04:18:54.607446Z"
        },
        "id": "9ac893b5"
      },
      "outputs": [
        {
          "ename": "",
          "evalue": "",
          "output_type": "error",
          "traceback": [
            "\u001b[1;31mRunning cells with 'c:\\msys64\\mingw64\\bin\\python.exe' requires the ipykernel package.\n",
            "\u001b[1;31mRun the following command to install 'ipykernel' into the Python environment. \n",
            "\u001b[1;31mCommand: 'c:/msys64/mingw64/bin/python.exe -m pip install ipykernel -U --user --force-reinstall'"
          ]
        }
      ],
      "source": [
        "import numpy as np\n",
        "import matplotlib.pyplot as plt"
      ]
    },
    {
      "cell_type": "markdown",
      "id": "53b6859d",
      "metadata": {
        "id": "53b6859d"
      },
      "source": [
        "# Visualizing vectors in 2D\n",
        "\n",
        "The `plot_vectors` function plots a list of vectors in 2D space."
      ]
    },
    {
      "cell_type": "code",
      "execution_count": 2,
      "id": "cc7e895c",
      "metadata": {
        "ExecuteTime": {
          "end_time": "2022-11-20T04:18:55.302811Z",
          "start_time": "2022-11-20T04:18:55.272228Z"
        },
        "id": "cc7e895c"
      },
      "outputs": [],
      "source": [
        "def plot_vectors(vectors, colors, scale=60):\n",
        "    V = np.array([[0, 1], [1, 0]])  # ihat and jhat\n",
        "    colors = ['k', 'k'] + colors\n",
        "    V = np.vstack([V, np.hstack(vectors).T])\n",
        "\n",
        "    plt.figure(figsize=(5, 5))\n",
        "    plt.grid()\n",
        "\n",
        "    origin = np.zeros(V.T.shape)\n",
        "    plt.quiver(*origin, V[:,0], V[:,1], color=colors, scale=1, units='xy')\n",
        "\n",
        "    lim = V.max() * 1.5\n",
        "\n",
        "    plt.xlim(-lim, lim)\n",
        "    plt.ylim(-lim, lim)\n",
        "\n",
        "    plt.show()"
      ]
    },
    {
      "cell_type": "markdown",
      "id": "abcd5b03",
      "metadata": {
        "id": "abcd5b03"
      },
      "source": [
        "Let's look at some examples - $v_1$ and $v_2$"
      ]
    },
    {
      "cell_type": "code",
      "execution_count": 3,
      "id": "4640cc16",
      "metadata": {
        "ExecuteTime": {
          "end_time": "2022-11-20T04:18:55.318741Z",
          "start_time": "2022-11-20T04:18:55.303812Z"
        },
        "id": "4640cc16"
      },
      "outputs": [],
      "source": [
        "v1 = np.array([[2, 2]]).T\n",
        "v2 = np.array([[2, 1]]).T"
      ]
    },
    {
      "cell_type": "code",
      "execution_count": 4,
      "id": "a42e6e8b",
      "metadata": {
        "ExecuteTime": {
          "end_time": "2022-11-20T04:18:55.413089Z",
          "start_time": "2022-11-20T04:18:55.320752Z"
        },
        "colab": {
          "base_uri": "https://localhost:8080/",
          "height": 451
        },
        "id": "a42e6e8b",
        "outputId": "61625544-2adb-470b-8d87-7c2fe5434e28"
      },
      "outputs": [
        {
          "data": {
            "image/png": "[encoded data removed]",
            "text/plain": [
              "<Figure size 500x500 with 1 Axes>"
            ]
          },
          "metadata": {},
          "output_type": "display_data"
        }
      ],
      "source": [
        "plot_vectors([v1, v2], colors=['r', 'g'])"
      ]
    },
    {
      "cell_type": "markdown",
      "id": "7ddc3e39",
      "metadata": {
        "id": "7ddc3e39"
      },
      "source": [
        "# Matrix Transformation\n",
        "\n",
        "Say, $M$ is a 2D transformation matrix. Let's apply $M$ on some random 2D vectors and see where they land after being transformed."
      ]
    },
    {
      "cell_type": "code",
      "execution_count": 17,
      "id": "45a98098",
      "metadata": {
        "ExecuteTime": {
          "end_time": "2022-11-20T04:18:55.428886Z",
          "start_time": "2022-11-20T04:18:55.414089Z"
        },
        "id": "45a98098"
      },
      "outputs": [],
      "source": [
        "M = np.array([\n",
        "    [1, 1],\n",
        "    [-1, 0]\n",
        "])"
      ]
    },
    {
      "cell_type": "markdown",
      "id": "b5bf0330",
      "metadata": {
        "id": "b5bf0330"
      },
      "source": [
        "Say, $v = \\hat{i} + 2\\hat{j}$ and the transformed vector is $v_m = Mv$"
      ]
    },
    {
      "cell_type": "code",
      "execution_count": 18,
      "id": "2394f760",
      "metadata": {
        "ExecuteTime": {
          "end_time": "2022-11-20T04:18:55.508957Z",
          "start_time": "2022-11-20T04:18:55.429912Z"
        },
        "colab": {
          "base_uri": "https://localhost:8080/",
          "height": 462
        },
        "id": "2394f760",
        "outputId": "b10674d6-388f-4883-ad01-eaee12668675"
      },
      "outputs": [
        {
          "name": "stdout",
          "output_type": "stream",
          "text": [
            "Length scaled = 1.4142135623730951\n"
          ]
        },
        {
          "data": {
            "image/png": "[encoded data removed]",
            "text/plain": [
              "<Figure size 500x500 with 1 Axes>"
            ]
          },
          "metadata": {},
          "output_type": "display_data"
        }
      ],
      "source": [
        "v = np.array([[1, 2]]).T\n",
        "v_m = M.dot(v)\n",
        "print(f'Length scaled = {np.linalg.norm(v_m) / np.linalg.norm(v)}')\n",
        "plot_vectors([v, v_m], colors=['r', 'g'])"
      ]
    },
    {
      "cell_type": "markdown",
      "id": "24d8ce50",
      "metadata": {
        "id": "24d8ce50"
      },
      "source": [
        "Red arrow shows the original vector and the green arrow shows the transformed vector.\n",
        "\n",
        "After transformation, two things happen to the transformed vector\n",
        "\n",
        "1. It may chage direction\n",
        "2. It may change length"
      ]
    },
    {
      "cell_type": "markdown",
      "id": "e37a4766",
      "metadata": {
        "id": "e37a4766"
      },
      "source": [
        "Let's see how our basis vectors $\\hat{i}$ and $\\hat{j}$ gets transformed."
      ]
    },
    {
      "cell_type": "code",
      "execution_count": 19,
      "id": "e48a1d0d",
      "metadata": {
        "ExecuteTime": {
          "end_time": "2022-11-20T04:18:55.603140Z",
          "start_time": "2022-11-20T04:18:55.509925Z"
        },
        "colab": {
          "base_uri": "https://localhost:8080/",
          "height": 480
        },
        "id": "e48a1d0d",
        "outputId": "16237c4f-aed6-49b1-bed7-9d1d5dbc6b0a"
      },
      "outputs": [
        {
          "name": "stdout",
          "output_type": "stream",
          "text": [
            "Transformed vector: [[1 2]]\n",
            "1st column of M: [ 1 -1]\n"
          ]
        },
        {
          "data": {
            "image/png": "[encoded data removed]",
            "text/plain": [
              "<Figure size 500x500 with 1 Axes>"
            ]
          },
          "metadata": {},
          "output_type": "display_data"
        }
      ],
      "source": [
        "v = np.array([[-2, 3]]).T # i_hat\n",
        "v_m = M.dot(v)\n",
        "print(f'Transformed vector: {v_m.T}')\n",
        "print(f'1st column of M: {M[:, 0]}')\n",
        "plot_vectors([v, v_m], colors=['r', 'g'])"
      ]
    },
    {
      "cell_type": "code",
      "execution_count": 20,
      "id": "de7a819a",
      "metadata": {
        "ExecuteTime": {
          "end_time": "2022-11-20T04:18:55.682352Z",
          "start_time": "2022-11-20T04:18:55.604151Z"
        },
        "colab": {
          "base_uri": "https://localhost:8080/",
          "height": 486
        },
        "id": "de7a819a",
        "outputId": "1254104d-571e-4c71-a9e4-6f4a7f3a8e79"
      },
      "outputs": [
        {
          "name": "stdout",
          "output_type": "stream",
          "text": [
            "Transformed vector: [[ 4 -2]]\n",
            "2nd column of M: [1 0]\n"
          ]
        },
        {
          "data": {
            "image/png": "[encoded data removed]",
            "text/plain": [
              "<Figure size 500x500 with 1 Axes>"
            ]
          },
          "metadata": {},
          "output_type": "display_data"
        }
      ],
      "source": [
        "v = np.array([[2, 2]]).T  # j_hat\n",
        "v_m = M.dot(v)\n",
        "print(f'Transformed vector: {v_m.T}')\n",
        "print(f'2nd column of M: {M[:, 1]}')\n",
        "plot_vectors([v, v_m], colors=['r', 'g'])"
      ]
    },
    {
      "cell_type": "markdown",
      "id": "c914445a",
      "metadata": {
        "id": "c914445a"
      },
      "source": [
        "Can you notice the similarities between transformed vectors and colums of $M$? [Hint](https://i.imgur.com/mWQjR2C.png)\n",
        "\n",
        "Please watch [the amazing explanation](https://youtu.be/kYB8IZa5AuE) from [3Blue1Brown](https://www.youtube.com/@3blue1brown)."
      ]
    },
    {
      "cell_type": "markdown",
      "id": "7eee262a",
      "metadata": {
        "id": "7eee262a"
      },
      "source": [
        "# Eigen Decomposition"
      ]
    },
    {
      "cell_type": "markdown",
      "id": "5b0b11ee",
      "metadata": {
        "id": "5b0b11ee"
      },
      "source": [
        "Let's look at a special vector, $v_e = \\hat{i}$"
      ]
    },
    {
      "cell_type": "code",
      "execution_count": 9,
      "id": "263736bf",
      "metadata": {
        "ExecuteTime": {
          "end_time": "2022-11-20T04:18:55.778003Z",
          "start_time": "2022-11-20T04:18:55.683322Z"
        },
        "colab": {
          "base_uri": "https://localhost:8080/",
          "height": 462
        },
        "id": "263736bf",
        "outputId": "0f3028a1-8cf9-4fcf-934c-7bdc2eb0f456"
      },
      "outputs": [
        {
          "name": "stdout",
          "output_type": "stream",
          "text": [
            "Length scaled 3.0\n"
          ]
        },
        {
          "data": {
            "image/png": "[encoded data removed]",
            "text/plain": [
              "<Figure size 500x500 with 1 Axes>"
            ]
          },
          "metadata": {},
          "output_type": "display_data"
        }
      ],
      "source": [
        "v_e = np.array([[1, 0]]).T\n",
        "v_em = M.dot(v_e)\n",
        "print(f'Length scaled {np.linalg.norm(v_em) / np.linalg.norm(v_e)}')\n",
        "plot_vectors([v_e, v_em], colors=['r', 'g'])"
      ]
    },
    {
      "cell_type": "markdown",
      "id": "b57bf2a6",
      "metadata": {
        "id": "b57bf2a6"
      },
      "source": [
        "As you can see the transformed vector stayed on the same line as $v_e$.\n",
        "\n",
        "These kinds of vectors are called eigenvectors of $M$.\n",
        "\n",
        "You can find there by applying eigenvalue decomposition."
      ]
    },
    {
      "cell_type": "code",
      "execution_count": 10,
      "id": "507f4e38",
      "metadata": {
        "ExecuteTime": {
          "end_time": "2022-11-20T04:18:55.794110Z",
          "start_time": "2022-11-20T04:18:55.779995Z"
        },
        "id": "507f4e38"
      },
      "outputs": [],
      "source": [
        "eigen_values, eigen_vectors = np.linalg.eig(M)"
      ]
    },
    {
      "cell_type": "code",
      "execution_count": 11,
      "id": "6a116ede",
      "metadata": {
        "ExecuteTime": {
          "end_time": "2022-11-20T04:18:55.810174Z",
          "start_time": "2022-11-20T04:18:55.795110Z"
        },
        "colab": {
          "base_uri": "https://localhost:8080/"
        },
        "id": "6a116ede",
        "outputId": "5a5592f0-2d89-45fc-c445-281059949c2f"
      },
      "outputs": [
        {
          "data": {
            "text/plain": [
              "array([3., 2.])"
            ]
          },
          "execution_count": 11,
          "metadata": {},
          "output_type": "execute_result"
        }
      ],
      "source": [
        "eigen_values"
      ]
    },
    {
      "cell_type": "code",
      "execution_count": 12,
      "id": "1942351b",
      "metadata": {
        "ExecuteTime": {
          "end_time": "2022-11-20T04:18:55.825477Z",
          "start_time": "2022-11-20T04:18:55.811148Z"
        },
        "colab": {
          "base_uri": "https://localhost:8080/"
        },
        "id": "1942351b",
        "outputId": "18c9ef74-0003-4430-c937-b118bf872efc"
      },
      "outputs": [
        {
          "data": {
            "text/plain": [
              "array([[ 1.        , -0.70710678],\n",
              "       [ 0.        ,  0.70710678]])"
            ]
          },
          "execution_count": 12,
          "metadata": {},
          "output_type": "execute_result"
        }
      ],
      "source": [
        "eigen_vectors"
      ]
    },
    {
      "cell_type": "markdown",
      "id": "cd862bf3",
      "metadata": {
        "id": "cd862bf3"
      },
      "source": [
        "Let's plot these before and after transformation"
      ]
    },
    {
      "cell_type": "code",
      "execution_count": 13,
      "id": "32bd2c38",
      "metadata": {
        "ExecuteTime": {
          "end_time": "2022-11-20T04:18:55.999437Z",
          "start_time": "2022-11-20T04:18:55.826476Z"
        },
        "colab": {
          "base_uri": "https://localhost:8080/",
          "height": 977
        },
        "id": "32bd2c38",
        "outputId": "8e769915-4a63-4a3d-b6f5-65928651b764"
      },
      "outputs": [
        {
          "name": "stdout",
          "output_type": "stream",
          "text": [
            "Eigenvector [[1. 0.]]\n",
            "Eigenvalue 3.0\n",
            "Length scaled 3.0\n"
          ]
        },
        {
          "data": {
            "image/png": "[encoded data removed]",
            "text/plain": [
              "<Figure size 500x500 with 1 Axes>"
            ]
          },
          "metadata": {},
          "output_type": "display_data"
        },
        {
          "name": "stdout",
          "output_type": "stream",
          "text": [
            "Eigenvector [[-0.70710678  0.70710678]]\n",
            "Eigenvalue 2.0\n",
            "Length scaled 2.0\n"
          ]
        },
        {
          "data": {
            "image/png": "[encoded data removed]",
            "text/plain": [
              "<Figure size 500x500 with 1 Axes>"
            ]
          },
          "metadata": {},
          "output_type": "display_data"
        }
      ],
      "source": [
        "for i in range(eigen_vectors.shape[0]):\n",
        "    v = eigen_vectors[:, i].reshape(2, 1)\n",
        "    v_m = M.dot(v)\n",
        "    print(f'Eigenvector {v.T}')\n",
        "    print(f'Eigenvalue {eigen_values[i]}')\n",
        "    print(f'Length scaled {np.linalg.norm(v_m) / np.linalg.norm(v)}')\n",
        "    plot_vectors([v, v_m], colors=['r', 'g'])"
      ]
    },
    {
      "cell_type": "markdown",
      "id": "80de7157",
      "metadata": {
        "id": "80de7157"
      },
      "source": [
        "As you have probably noticed, eigenvalue denotes the amount of scaling after transformation.\n",
        "\n",
        "Let's denote this as $\\lambda$. Then we get a concise equation\n",
        "\n",
        "$$ Mv = \\lambda v $$"
      ]
    }
  ],
  "metadata": {
    "colab": {
      "provenance": []
    },
    "kernelspec": {
      "display_name": "Python 3 (ipykernel)",
      "language": "python",
      "name": "python3"
    },
    "language_info": {
      "codemirror_mode": {
        "name": "ipython",
        "version": 3
      },
      "file_extension": ".py",
      "mimetype": "text/x-python",
      "name": "python",
      "nbconvert_exporter": "python",
      "pygments_lexer": "ipython3",
      "version": "3.10.11"
    }
  },
  "nbformat": 4,
  "nbformat_minor": 5
}
